{
 "cells": [
  {
   "cell_type": "code",
   "execution_count": 1,
   "metadata": {
    "ExecuteTime": {
     "end_time": "2023-06-16T21:59:41.762304Z",
     "start_time": "2023-06-16T21:59:41.744860Z"
    }
   },
   "outputs": [],
   "source": [
    "## Access and retrieve Company Level Financial data from SEC EDGAR system\n",
    "##   M Boldin March-April 2023 \n",
    "##   UPWORK job  for Rueben Reuben Vandeventer, Second Sight Data Science\n",
    "\n",
    "## Produces CSV file \n",
    "##   filename == {symbol} + {”_”} + {reportingYear} + {”_”} + {analysisDate} + {”_FY}"
   ]
  },
  {
   "cell_type": "raw",
   "metadata": {
    "ExecuteTime": {
     "end_time": "2023-06-16T19:17:40.369932Z",
     "start_time": "2023-06-16T19:17:40.363874Z"
    }
   },
   "source": [
    "Annual Financial Metrics\n",
    "**analysisDate:** this is the date that this data pull was executed\n",
    "**symbol:** the symbol of the equity in which data has been pulled\n",
    "**reportingDate:** this is the date that the company posted these results\n",
    "**reportingPeriod:** this is the date range to which the reported numbers represent\n",
    "**reportingYear:** this is the quarter and year of the reporting period represented\n",
    "**earningsFY:** this is total earnings posted for the reporting period defined.  Note this should be the raw earnings, not earnings per share.\n",
    "**cummDepreciationFY:** accumulated depreciation is a running total of depreciation expense reported on the balance sheet.\n",
    "**depreciationExpenseFY:** depreciation expense is reported on the income statement as any other normal business expense\n",
    "**amortizationFY:** amortization is an accounting technique used to periodically lower the book value of a [loan](https://www.investopedia.com/terms/l/loan.asp) or an [intangible asset](https://www.investopedia.com/terms/i/intangibleasset.asp) over a set period of time.\n",
    "**totalCapexFY:** a company's capital expenditures (CapEx) can also be found on the cash flow statement under the \"Investing Activities\" section. Capital expenditures can also be listed as \"Property, Plant, and Equipment\" (PP&E), which are both the same thing, just named differently.\n",
    "**maintenanceCapexFY**:  money a company spends to restore assets to what they were before.\n",
    "**operatingCashFlowFY**: cash that's generated from normal business operations or activities.\n",
    "**freeCashFlowFY:** cash that a company generates from its normal business operations before interest payments and after subtracting any money spent on capital expenditures. Capital expenditures, or CAPEX for short, are purchases of long-term fixed assets, such as property, plant, and equipment.\n",
    "**sharesOutstandingFY:** Shares outstanding refer to a company's stock currently held by all its shareholders, including share blocks held by institutional investors and restricted shares owned by the company’s officers and insiders. Outstanding shares are shown on a company’s balance sheet under the heading “Capital Stock.”"
   ]
  },
  {
   "cell_type": "raw",
   "metadata": {
    "ExecuteTime": {
     "end_time": "2023-06-16T19:17:40.878880Z",
     "start_time": "2023-06-16T19:17:40.867833Z"
    }
   },
   "source": [
    "Needs secpy module  https://github.com/McKalvan/secpy\n",
    "   use pip install sec-python\n",
    "\n",
    "DO NOT USE  pip install secpy  (different package)\n",
    "\n",
    "also sec-python fails with Python 3.11\n",
    "\"AttributeError: module 'asyncio' has no attribute 'coroutine'.\" in Py…\n",
    "Generator-based Coroutines which contains @asyncio.coroutine decorator is removed in Python 3.11\n"
   ]
  },
  {
   "cell_type": "code",
   "execution_count": 1,
   "metadata": {
    "ExecuteTime": {
     "end_time": "2023-07-05T17:13:07.829829Z",
     "start_time": "2023-07-05T17:13:06.317905Z"
    }
   },
   "outputs": [
    {
     "name": "stdout",
     "output_type": "stream",
     "text": [
      "Operating System: darwin \n",
      " Python version: 3.8.5 (default, Sep  4 2020, 02:22:02) \n",
      "[Clang 10.0.0 ]\n",
      "** Main MODULE IMPORTs Done ** 2023-07-05 13:13:07.823935\n"
     ]
    }
   ],
   "source": [
    "## IMPORT Python modules \n",
    "##  M Boldin APRIL-MAY 2023\n",
    "\n",
    "import os\n",
    "import sys\n",
    "sys.path.append(\"/path/to/secpy\")\n",
    "import datetime as dt\n",
    "import numpy as np\n",
    "import pandas as pd\n",
    "\n",
    "print('Operating System:', sys.platform, '\\n Python version:', sys.version)\n",
    "print('** Main MODULE IMPORTs Done **', dt.datetime.now())"
   ]
  },
  {
   "cell_type": "code",
   "execution_count": 18,
   "metadata": {
    "ExecuteTime": {
     "end_time": "2023-06-18T23:22:13.165235Z",
     "start_time": "2023-06-18T23:22:12.932540Z"
    }
   },
   "outputs": [
    {
     "name": "stdout",
     "output_type": "stream",
     "text": [
      "** Extra  MODULE IMPORTs Done ** 2023-06-18 19:22:13.158932\n"
     ]
    }
   ],
   "source": [
    "##  My extra code\n",
    "\n",
    "import secpy as sec\n",
    "from secpy.secpy_client import SECPyClient\n",
    "\n",
    "from SecUtils import *\n",
    "##  SecUtils.py can be in different directory \n",
    "##   use os.sys.path.append(\"./Util\") to add location to Python system path \n",
    "\n",
    "print('** Extra  MODULE IMPORTs Done **', dt.datetime.now()) "
   ]
  },
  {
   "cell_type": "code",
   "execution_count": 19,
   "metadata": {
    "ExecuteTime": {
     "end_time": "2023-06-18T23:22:24.560846Z",
     "start_time": "2023-06-18T23:22:24.552295Z"
    }
   },
   "outputs": [],
   "source": [
    "## Jupyter specific set up\n",
    "\n",
    "pd.options.mode.chained_assignment = None  # default='warn'\n",
    "import warnings\n",
    "warnings.simplefilter(action='ignore', category=FutureWarning)    \n",
    "\n",
    "## Interactive Shells alows a cell to show more than one output cell\n",
    "from IPython.core.interactiveshell import InteractiveShell\n",
    "InteractiveShell.ast_node_interactivity = \"all\""
   ]
  },
  {
   "cell_type": "code",
   "execution_count": 20,
   "metadata": {
    "ExecuteTime": {
     "end_time": "2023-06-18T23:22:28.443060Z",
     "start_time": "2023-06-18T23:22:28.434323Z"
    }
   },
   "outputs": [
    {
     "name": "stdout",
     "output_type": "stream",
     "text": [
      "MDBtest\n"
     ]
    }
   ],
   "source": [
    "## Need a SEC Edgar API user code\n",
    "\n",
    "client = SECPyClient(\"MDBtest\")\n",
    "print(client.user_agent)\n",
    "\n"
   ]
  },
  {
   "cell_type": "code",
   "execution_count": 21,
   "metadata": {
    "ExecuteTime": {
     "end_time": "2023-06-18T23:22:35.019978Z",
     "start_time": "2023-06-18T23:22:35.000653Z"
    }
   },
   "outputs": [],
   "source": [
    "## Master function to call download steps and process data \n",
    "##  Uses SECitems.csv for defining variable terms and renaming\n",
    "\n",
    "def RunSECsteps(tsymbol=None,last=1,form='10-K',items='SECitems.csv', make_csv=True):\n",
    "\n",
    "    ## Use CSV file to define items\n",
    "    dfSECitems = pd.read_csv('SECitems.csv')\n",
    "    ## Renaming dictionary used below\n",
    "    c1 = dfSECitems['ConceptNameFY'].to_list()\n",
    "    c2 = dfSECitems['ItemFY'].to_list()\n",
    "    drename = dict(zip(c1,c2))\n",
    " \n",
    "    ## Identify Concept items and Calc items\n",
    "    dfx = dfSECitems.copy()\n",
    "    rx = dfx['type'] == 'calc'\n",
    "    dfx2 = dfx[rx]\n",
    "    concepts1 = dfx.loc[~rx,'ConceptNameFY']\n",
    "    concepts1 = concepts1.to_list()\n",
    " \n",
    "\n",
    "    ## Loop -- Get all needed Company Concept Items \n",
    "    company_facts = client.company_facts()\n",
    "    company1 = company_facts.get_company_facts_for_ticker(tsymbol)\n",
    "    #print(tsymbol, company1.cik, company1.entity_name)\n",
    "    clist = concepts1[:]\n",
    "    dfB1 = ConceptLoop2(tsymbol,company1,clist,form='10-K',last=last)\n",
    "\n",
    "    ## Restate to item names\n",
    "    dfB2 = RestateSEC(tsymbol,dfB1)\n",
    "\n",
    "    ## PIVOT  make concept-name individual column names\n",
    "    dfa = dfB2.copy()\n",
    "    jx = ['analysisDate', 'symbol', 'reportingDate', 'reportingPeriod', 'reportingYear', 'endDate']\n",
    "    dfa['case'] = dfa['concept_name']\n",
    "    dfb = dfa.pivot_table(values = 'value', index=jx, columns = 'case')\n",
    "    dfb.reset_index(inplace=True)\n",
    "    dfb.columns = dfb.columns.to_flat_index()\n",
    "    dfB3 = dfb.copy()\n",
    "\n",
    "    ## List of extracted items used to see what is missing \n",
    "    ca = dfB3.columns\n",
    "    #print(ca)\n",
    "    #print(dfB3.tail(2).T)\n",
    "\n",
    "    ## Make Depreciation CapEx and FCF and AccumDeprec\n",
    "    dfB3['AccumDepreciation'] = 0\n",
    "    dfB3['Amortization'] = 0\n",
    "    dfB3['CapitalExpenditures']  = 0\n",
    "    dfB3['FreeCashFlow']  = 0\n",
    "\n",
    "\n",
    "    ##Net PPE lag and change\n",
    "    if 'PropertyPlantAndEquipmentNet' in ca:\n",
    "        dfB3['NetPPE_lag'] = dfB3['PropertyPlantAndEquipmentNet'].shift(1)\n",
    "        dfB3['NetPPE_chg'] = dfB3['PropertyPlantAndEquipmentNet'] - dfB3['NetPPE_lag']\n",
    "    if 'PropertyPlantAndEquipmentAdditions' in ca:\n",
    "        dfB3['CapitalExpenditures'] = dfB3['PropertyPlantAndEquipmentAdditions']\n",
    "    else:\n",
    "        net = 0; dep = 0; psale=0;\n",
    "        if 'NetPPE_chg' in dfB3.columns:\n",
    "            net = dfB3['NetPPE_chg']\n",
    "        if 'Depreciation' in dfB3.columns:\n",
    "            dep = dfB3['Depreciation']\n",
    "        elif 'DepreciationAndAmortization' in dfB3.columns:\n",
    "            dep = dfB3['DepreciationAndAmortization']\n",
    "        if 'ProceedsFromSaleOfPropertyPlantAndEquipment' in dfB3.columns:\n",
    "            psale = dfB3['ProceedsFromSaleOfPropertyPlantAndEquipment'] \n",
    "        dfB3['CapitalExpenditures'] = net  + dep + psale\n",
    "\n",
    "    if 'NetCashProvidedByUsedInOperatingActivities'\t in ca:\n",
    "        dfB3['FreeCashFlow'] = dfB3['NetCashProvidedByUsedInOperatingActivities'] -  dfB3['CapitalExpenditures'] \n",
    "    #if 'NetCashProvidedByUsedInOperatingActivities'\t in ca:\n",
    "\n",
    "    if 'AccumulatedDepreciationDepletionAndAmortizationPropertyPlantAndEquipment' in ca:\n",
    "        dfB3['AccumDepreciation'] = dfB3['AccumulatedDepreciationDepletionAndAmortizationPropertyPlantAndEquipment']\n",
    "    elif ('PropertyPlantAndEquipmentNet' in ca) and ('PropertyPlantAndEquipmentGross' in ca):\n",
    "        dfB3['AccumDepreciation'] = dfB3['PropertyPlantAndEquipmentGross'] - dfB3['PropertyPlantAndEquipmentNet'];\n",
    "\n",
    "    if 'AmortizationOfIntangibleAssets' in ca:\n",
    "        dfB3['Amortization'] = dfB3['AmortizationOfIntangibleAssets']\n",
    "    elif ('Depreciation' in dfB3.columns) and ('DepreciationAndAmortization' in dfB3.columns):\n",
    "        dfB3['Amortization'] = dfB3['DepreciationAndAmortization'] - dfB3['Depreciation']\n",
    "\n",
    "    if 'Depreciation' not in ca:\n",
    "        dfB3['Depreciation'] = 0\n",
    "        \n",
    "    ## Rename SEC concept_name to Item FY tag \n",
    "    ##   rename dictionary defined above\n",
    "    c1 = dfB3.columns\n",
    "    c2 = list(c1)\n",
    "    for k,c in enumerate(c1):\n",
    "        #print(k, c)    \n",
    "        if (c in drename.keys()) and  (drename[c] != 'extra'): \n",
    "            #print(k, c, drename[c])\n",
    "            c2[k] = drename[c]\n",
    "    dfB4 = dfB3.copy()\n",
    "    dfB4[c2] = dfB4[c1]\n",
    "\n",
    "    ## Re-oder and finish\n",
    "    \n",
    "    ca = ['analysisDate', 'symbol', 'reportingDate', 'reportingPeriod','reportingYear', 'endDate']\n",
    "    \n",
    "    cb = ['earningsFY',\n",
    "    'cummDepreciationFY',\n",
    "    'depreciationExpenseFY',\n",
    "    'amortizationFY',\n",
    "    'totalCapexFY',\n",
    "    'operatingCashFlowFY',\n",
    "    'freeCashFlowFY']\n",
    "    if 'sharesOutstandingFY' in dfB4.columns: \n",
    "        cb.append('sharesOutstandingFY')\n",
    "\n",
    "    k = dfB4.shape[0]\n",
    "    if last==1:\n",
    "        dfB5 = dfB4.loc[k-1:,ca+cb]\n",
    "    else:\n",
    "        dfB5 = dfB4.loc[k-last:k,ca+cb]    \n",
    "        \n",
    "    if make_csv == True:\n",
    "        x=dfB5.iloc[-1,:]\n",
    "        symbol = x['symbol']\n",
    "        reportingYear = x['reportingYear']\n",
    "        analysisDate = x['analysisDate']\n",
    "        filename = f'{symbol}_{reportingYear}_{analysisDate}_FY.csv'\n",
    "        print('Creating:', filename)\n",
    "        dfB5.to_csv(filename)\n",
    "        \n",
    "    return dfB5"
   ]
  },
  {
   "cell_type": "code",
   "execution_count": 25,
   "metadata": {
    "ExecuteTime": {
     "end_time": "2023-06-18T23:29:38.278621Z",
     "start_time": "2023-06-18T23:29:29.627291Z"
    }
   },
   "outputs": [
    {
     "name": "stdout",
     "output_type": "stream",
     "text": [
      "Creating: MSFT_2022_2023-06-18_FY.csv\n"
     ]
    },
    {
     "data": {
      "text/plain": "                                   4              5\ncase                                               \nanalysisDate              2023-06-18     2023-06-18\nsymbol                          MSFT           MSFT\nreportingDate             2021-07-29     2022-07-28\nreportingPeriod                   FY             FY\nreportingYear                   2021           2022\nendDate                   2021-06-30     2022-06-30\nearningsFY             61271000000.0  72738000000.0\ncummDepreciationFY     51351000000.0  59660000000.0\ndepreciationExpenseFY   9300000000.0  12600000000.0\namortizationFY          1600000000.0   2000000000.0\ntotalCapexFY           24864000000.0  27283000000.0\noperatingCashFlowFY    76740000000.0  89035000000.0\nfreeCashFlowFY         51876000000.0  61752000000.0\nsharesOutstandingFY     7519000000.0   7464000000.0",
      "text/html": "<div>\n<style scoped>\n    .dataframe tbody tr th:only-of-type {\n        vertical-align: middle;\n    }\n\n    .dataframe tbody tr th {\n        vertical-align: top;\n    }\n\n    .dataframe thead th {\n        text-align: right;\n    }\n</style>\n<table border=\"1\" class=\"dataframe\">\n  <thead>\n    <tr style=\"text-align: right;\">\n      <th></th>\n      <th>4</th>\n      <th>5</th>\n    </tr>\n    <tr>\n      <th>case</th>\n      <th></th>\n      <th></th>\n    </tr>\n  </thead>\n  <tbody>\n    <tr>\n      <th>analysisDate</th>\n      <td>2023-06-18</td>\n      <td>2023-06-18</td>\n    </tr>\n    <tr>\n      <th>symbol</th>\n      <td>MSFT</td>\n      <td>MSFT</td>\n    </tr>\n    <tr>\n      <th>reportingDate</th>\n      <td>2021-07-29</td>\n      <td>2022-07-28</td>\n    </tr>\n    <tr>\n      <th>reportingPeriod</th>\n      <td>FY</td>\n      <td>FY</td>\n    </tr>\n    <tr>\n      <th>reportingYear</th>\n      <td>2021</td>\n      <td>2022</td>\n    </tr>\n    <tr>\n      <th>endDate</th>\n      <td>2021-06-30</td>\n      <td>2022-06-30</td>\n    </tr>\n    <tr>\n      <th>earningsFY</th>\n      <td>61271000000.0</td>\n      <td>72738000000.0</td>\n    </tr>\n    <tr>\n      <th>cummDepreciationFY</th>\n      <td>51351000000.0</td>\n      <td>59660000000.0</td>\n    </tr>\n    <tr>\n      <th>depreciationExpenseFY</th>\n      <td>9300000000.0</td>\n      <td>12600000000.0</td>\n    </tr>\n    <tr>\n      <th>amortizationFY</th>\n      <td>1600000000.0</td>\n      <td>2000000000.0</td>\n    </tr>\n    <tr>\n      <th>totalCapexFY</th>\n      <td>24864000000.0</td>\n      <td>27283000000.0</td>\n    </tr>\n    <tr>\n      <th>operatingCashFlowFY</th>\n      <td>76740000000.0</td>\n      <td>89035000000.0</td>\n    </tr>\n    <tr>\n      <th>freeCashFlowFY</th>\n      <td>51876000000.0</td>\n      <td>61752000000.0</td>\n    </tr>\n    <tr>\n      <th>sharesOutstandingFY</th>\n      <td>7519000000.0</td>\n      <td>7464000000.0</td>\n    </tr>\n  </tbody>\n</table>\n</div>"
     },
     "execution_count": 25,
     "metadata": {},
     "output_type": "execute_result"
    }
   ],
   "source": [
    "## Example extracts\n",
    "\n",
    "MSFT = RunSECsteps('MSFT',last=2, form='10-K')\n",
    "MSFT.T"
   ]
  },
  {
   "cell_type": "code",
   "execution_count": null,
   "metadata": {},
   "outputs": [],
   "source": []
  }
 ],
 "metadata": {
  "kernelspec": {
   "name": "python3",
   "language": "python",
   "display_name": "Python 3 (ipykernel)"
  },
  "language_info": {
   "codemirror_mode": {
    "name": "ipython",
    "version": 3
   },
   "file_extension": ".py",
   "mimetype": "text/x-python",
   "name": "python",
   "nbconvert_exporter": "python",
   "pygments_lexer": "ipython3",
   "version": "3.7.8"
  },
  "latex_envs": {
   "LaTeX_envs_menu_present": true,
   "autoclose": false,
   "autocomplete": true,
   "bibliofile": "biblio.bib",
   "cite_by": "apalike",
   "current_citInitial": 1,
   "eqLabelWithNumbers": true,
   "eqNumInitial": 1,
   "hotkeys": {
    "equation": "Ctrl-E",
    "itemize": "Ctrl-I"
   },
   "labels_anchors": false,
   "latex_user_defs": false,
   "report_style_numbering": false,
   "user_envs_cfg": false
  }
 },
 "nbformat": 4,
 "nbformat_minor": 4
}
