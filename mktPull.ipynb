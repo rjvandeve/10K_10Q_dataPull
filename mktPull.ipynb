{
 "cells": [
  {
   "cell_type": "code",
   "execution_count": 16,
   "outputs": [
    {
     "name": "stdout",
     "output_type": "stream",
     "text": [
      "** MODULE IMPORTs Done ** 2023-07-05 13:23:22.911659\n",
      "Python version: 3.8.5 (default, Sep  4 2020, 02:22:02) \n",
      "[Clang 10.0.0 ]\n",
      "Pandas version: 1.4.3\n",
      "/Volumes/Drive/Dropbox (Personal)/pycharm/d2/10K_10Q_dataPull\n"
     ]
    }
   ],
   "source": [
    "## IMPORT Common Python modules\n",
    "##  M Boldin MAY 2023\n",
    "\n",
    "import os\n",
    "import sys\n",
    "import datetime as dt\n",
    "import numpy as np\n",
    "import pandas as pd\n",
    "\n",
    "##  My extra code\n",
    "#os.sys.path.append(\"./Util\")\n",
    "from SecUtils3 import *\n",
    "\n",
    "pd.options.mode.chained_assignment = None  # default='warn'\n",
    "import warnings\n",
    "warnings.simplefilter(action='ignore', category=FutureWarning)\n",
    "\n",
    "## Interactive Shells alows a cell to show more than one output cell\n",
    "from IPython.core.interactiveshell import InteractiveShell\n",
    "InteractiveShell.ast_node_interactivity = \"all\"\n",
    "\n",
    "print('** MODULE IMPORTs Done **', dt.datetime.now())\n",
    "\n",
    "print('Python version:', sys.version)\n",
    "print('Pandas version:', pd.__version__)\n",
    "print(os.getcwd())"
   ],
   "metadata": {
    "collapsed": false,
    "ExecuteTime": {
     "end_time": "2023-07-05T17:23:22.916984Z",
     "start_time": "2023-07-05T17:23:22.909578Z"
    }
   }
  },
  {
   "cell_type": "code",
   "execution_count": 17,
   "outputs": [
    {
     "name": "stdout",
     "output_type": "stream",
     "text": [
      "MDBtest\n"
     ]
    }
   ],
   "source": [
    "##  Needs secpy module  https://github.com/McKalvan/secpy\n",
    "##     use pip install sec-python\n",
    "##  DO NOT USE  pip install secpy  (different package)\n",
    "#!pip install sec-python\n",
    "\n",
    "## Code runs with Python 3.7  not 3.11\n",
    "##    and needs pandas append, which not in newest version\n",
    "##  Also sec-python fails with Python 3.11\n",
    "##    \"AttributeError: module 'asyncio' has no attribute 'coroutine'.\" in Py…\n",
    "##    Generator-based Coroutines which contains @asyncio.coroutine decorator is removed since\n",
    "##       Python 3.11 so asyncio module doesn't have @asyncio.coroutine decorator as\n",
    "##  the error says:  So instead, you need to use async keyword before def as shown below:\n",
    "##    SEE https://www.bing.com/search?q=AttributeError%3A%20module%20%27asyncio%27%20has%20no%20attribute%20%27coroutine%27&pc=0SLN&ptag=C19N9998D020323A00ED787AAB&form=CONBDF&conlogo=CT3210127\n",
    "\n",
    "import secpy as sec\n",
    "from secpy.secpy_client import SECPyClient\n",
    "\n",
    "client = SECPyClient(\"MDBtest\")\n",
    "print(client.user_agent)"
   ],
   "metadata": {
    "collapsed": false,
    "ExecuteTime": {
     "end_time": "2023-07-05T17:23:24.506441Z",
     "start_time": "2023-07-05T17:23:24.499398Z"
    }
   }
  },
  {
   "cell_type": "code",
   "execution_count": 18,
   "outputs": [
    {
     "name": "stdout",
     "output_type": "stream",
     "text": [
      " Ticker: MSFT  -- Name: Microsoft Corporation  CIK:0000789019  \n",
      "Taxonomys: ['dei', 'us_gaap']\n",
      "Number of Concepts: 539\n"
     ]
    }
   ],
   "source": [
    "## Find company using ticker symbol and count avaliable items\n",
    "\n",
    "tsymbol = 'MSFT'\n",
    "\n",
    "company_facts = client.company_facts()\n",
    "company = company_facts.get_company_facts_for_ticker(tsymbol)\n",
    "cik = company.cik\n",
    "company_name = company.entity_name\n",
    "concepts = company.get_all_concepts()\n",
    "taxonomies = company.list_taxonomies()\n",
    "\n",
    "print( f' Ticker: {tsymbol}  -- Name: {company_name}  CIK:{cik}  ')\n",
    "print('Taxonomys:', taxonomies)\n",
    "print('Number of Concepts:', len(concepts))"
   ],
   "metadata": {
    "collapsed": false,
    "ExecuteTime": {
     "end_time": "2023-07-05T17:23:27.000715Z",
     "start_time": "2023-07-05T17:23:25.585010Z"
    }
   }
  },
  {
   "cell_type": "code",
   "execution_count": 20,
   "outputs": [
    {
     "name": "stdout",
     "output_type": "stream",
     "text": [
      "Found WeightedAverageNumberOfSharesOutstandingBasic for sharesOutstanding\n",
      "Creating: MSFT_2022_2023-07-05_FY.csv\n"
     ]
    },
    {
     "data": {
      "text/plain": "case analysisDate symbol reportingDate reportingPeriod  reportingYear  \\\n11     2023-07-05   MSFT    2021-07-29              FY           2021   \n12     2023-07-05   MSFT    2022-07-28              FY           2022   \n\ncase   startDate     endDate    earningsFY  cummDepreciationFY  \\\n11    2020-07-01  2021-06-30  6.127100e+10        5.135100e+10   \n12    2021-07-01  2022-06-30  7.273800e+10        5.966000e+10   \n\ncase  depreciationExpenseFY  amortizationFY  totalCapexFY  \\\n11             9.300000e+09    1.600000e+09  2.486400e+10   \n12             1.260000e+10    2.000000e+09  2.728300e+10   \n\ncase  operatingCashFlowFY  freeCashFlowFY  sharesOutstandingFY  \n11           7.674000e+10    5.187600e+10         7.547000e+09  \n12           8.903500e+10    6.175200e+10         7.496000e+09  ",
      "text/html": "<div>\n<style scoped>\n    .dataframe tbody tr th:only-of-type {\n        vertical-align: middle;\n    }\n\n    .dataframe tbody tr th {\n        vertical-align: top;\n    }\n\n    .dataframe thead th {\n        text-align: right;\n    }\n</style>\n<table border=\"1\" class=\"dataframe\">\n  <thead>\n    <tr style=\"text-align: right;\">\n      <th>case</th>\n      <th>analysisDate</th>\n      <th>symbol</th>\n      <th>reportingDate</th>\n      <th>reportingPeriod</th>\n      <th>reportingYear</th>\n      <th>startDate</th>\n      <th>endDate</th>\n      <th>earningsFY</th>\n      <th>cummDepreciationFY</th>\n      <th>depreciationExpenseFY</th>\n      <th>amortizationFY</th>\n      <th>totalCapexFY</th>\n      <th>operatingCashFlowFY</th>\n      <th>freeCashFlowFY</th>\n      <th>sharesOutstandingFY</th>\n    </tr>\n  </thead>\n  <tbody>\n    <tr>\n      <th>11</th>\n      <td>2023-07-05</td>\n      <td>MSFT</td>\n      <td>2021-07-29</td>\n      <td>FY</td>\n      <td>2021</td>\n      <td>2020-07-01</td>\n      <td>2021-06-30</td>\n      <td>6.127100e+10</td>\n      <td>5.135100e+10</td>\n      <td>9.300000e+09</td>\n      <td>1.600000e+09</td>\n      <td>2.486400e+10</td>\n      <td>7.674000e+10</td>\n      <td>5.187600e+10</td>\n      <td>7.547000e+09</td>\n    </tr>\n    <tr>\n      <th>12</th>\n      <td>2023-07-05</td>\n      <td>MSFT</td>\n      <td>2022-07-28</td>\n      <td>FY</td>\n      <td>2022</td>\n      <td>2021-07-01</td>\n      <td>2022-06-30</td>\n      <td>7.273800e+10</td>\n      <td>5.966000e+10</td>\n      <td>1.260000e+10</td>\n      <td>2.000000e+09</td>\n      <td>2.728300e+10</td>\n      <td>8.903500e+10</td>\n      <td>6.175200e+10</td>\n      <td>7.496000e+09</td>\n    </tr>\n  </tbody>\n</table>\n</div>"
     },
     "execution_count": 20,
     "metadata": {},
     "output_type": "execute_result"
    }
   ],
   "source": [
    "## Try extract\n",
    "dfMSFT = RunSECsteps('MSFT',last=2, form='10-K')\n",
    "dfMSFT"
   ],
   "metadata": {
    "collapsed": false,
    "ExecuteTime": {
     "end_time": "2023-07-05T17:24:04.403581Z",
     "start_time": "2023-07-05T17:24:02.067758Z"
    }
   }
  },
  {
   "cell_type": "code",
   "execution_count": null,
   "outputs": [],
   "source": [],
   "metadata": {
    "collapsed": false
   }
  },
  {
   "cell_type": "code",
   "execution_count": null,
   "outputs": [],
   "source": [],
   "metadata": {
    "collapsed": false
   }
  }
 ],
 "metadata": {
  "kernelspec": {
   "display_name": "Python 3 (ipykernel)",
   "language": "python",
   "name": "python3"
  },
  "language_info": {
   "codemirror_mode": {
    "name": "ipython",
    "version": 3
   },
   "file_extension": ".py",
   "mimetype": "text/x-python",
   "name": "python",
   "nbconvert_exporter": "python",
   "pygments_lexer": "ipython3",
   "version": "3.8.13"
  }
 },
 "nbformat": 4,
 "nbformat_minor": 1
}
