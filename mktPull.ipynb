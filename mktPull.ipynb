{
 "cells": [
  {
   "cell_type": "code",
   "execution_count": 1,
   "outputs": [
    {
     "name": "stdout",
     "output_type": "stream",
     "text": [
      "** MODULE IMPORTs Done ** 2023-07-05 16:18:58.845149\n",
      "Python version: 3.8.13 (default, Mar 28 2022, 06:16:26) \n",
      "[Clang 12.0.0 ]\n",
      "Pandas version: 1.4.2\n",
      "/Users/r_vandeventer/Dropbox (Personal)/pycharm/d2_laptop/10K_10Q_dataPull\n"
     ]
    }
   ],
   "source": [
    "## IMPORT Common Python modules\n",
    "##  M Boldin MAY 2023\n",
    "\n",
    "import os\n",
    "import sys\n",
    "import datetime as dt\n",
    "import numpy as np\n",
    "import pandas as pd\n",
    "\n",
    "##  My extra code\n",
    "#os.sys.path.append(\"./Util\")\n",
    "from SecUtils import *\n",
    "\n",
    "pd.options.mode.chained_assignment = None  # default='warn'\n",
    "import warnings\n",
    "warnings.simplefilter(action='ignore', category=FutureWarning)\n",
    "\n",
    "## Interactive Shells alows a cell to show more than one output cell\n",
    "from IPython.core.interactiveshell import InteractiveShell\n",
    "InteractiveShell.ast_node_interactivity = \"all\"\n",
    "\n",
    "print('** MODULE IMPORTs Done **', dt.datetime.now())\n",
    "\n",
    "print('Python version:', sys.version)\n",
    "print('Pandas version:', pd.__version__)\n",
    "print(os.getcwd())"
   ],
   "metadata": {
    "collapsed": false,
    "ExecuteTime": {
     "end_time": "2023-07-05T20:18:58.850194Z",
     "start_time": "2023-07-05T20:18:57.753836Z"
    }
   }
  },
  {
   "cell_type": "code",
   "execution_count": 2,
   "outputs": [
    {
     "name": "stdout",
     "output_type": "stream",
     "text": [
      "MDBtest\n"
     ]
    }
   ],
   "source": [
    "##  Needs secpy module  https://github.com/McKalvan/secpy\n",
    "##     use pip install sec-python\n",
    "##  DO NOT USE  pip install secpy  (different package)\n",
    "#!pip install sec-python\n",
    "\n",
    "## Code runs with Python 3.7  not 3.11\n",
    "##    and needs pandas append, which not in newest version\n",
    "##  Also sec-python fails with Python 3.11\n",
    "##    \"AttributeError: module 'asyncio' has no attribute 'coroutine'.\" in Py…\n",
    "##    Generator-based Coroutines which contains @asyncio.coroutine decorator is removed since\n",
    "##       Python 3.11 so asyncio module doesn't have @asyncio.coroutine decorator as\n",
    "##  the error says:  So instead, you need to use async keyword before def as shown below:\n",
    "##    SEE https://www.bing.com/search?q=AttributeError%3A%20module%20%27asyncio%27%20has%20no%20attribute%20%27coroutine%27&pc=0SLN&ptag=C19N9998D020323A00ED787AAB&form=CONBDF&conlogo=CT3210127\n",
    "\n",
    "import secpy as sec\n",
    "from secpy.secpy_client import SECPyClient\n",
    "\n",
    "client = SECPyClient(\"MDBtest\")\n",
    "print(client.user_agent)"
   ],
   "metadata": {
    "collapsed": false,
    "ExecuteTime": {
     "end_time": "2023-07-05T20:18:59.976380Z",
     "start_time": "2023-07-05T20:18:59.959886Z"
    }
   }
  },
  {
   "cell_type": "code",
   "execution_count": 3,
   "outputs": [
    {
     "name": "stdout",
     "output_type": "stream",
     "text": [
      " Ticker: MSFT  -- Name: Microsoft Corporation  CIK:0000789019  \n",
      "Taxonomys: ['dei', 'us_gaap']\n",
      "Number of Concepts: 539\n"
     ]
    }
   ],
   "source": [
    "## Find company using ticker symbol and count avaliable items\n",
    "\n",
    "tsymbol = 'MSFT'\n",
    "\n",
    "company_facts = client.company_facts()\n",
    "company = company_facts.get_company_facts_for_ticker(tsymbol)\n",
    "cik = company.cik\n",
    "company_name = company.entity_name\n",
    "concepts = company.get_all_concepts()\n",
    "taxonomies = company.list_taxonomies()\n",
    "\n",
    "print( f' Ticker: {tsymbol}  -- Name: {company_name}  CIK:{cik}  ')\n",
    "print('Taxonomys:', taxonomies)\n",
    "print('Number of Concepts:', len(concepts))"
   ],
   "metadata": {
    "collapsed": false,
    "ExecuteTime": {
     "end_time": "2023-07-05T20:19:03.166147Z",
     "start_time": "2023-07-05T20:19:01.697330Z"
    }
   }
  },
  {
   "cell_type": "code",
   "execution_count": 5,
   "outputs": [
    {
     "name": "stdout",
     "output_type": "stream",
     "text": [
      "Found WeightedAverageNumberOfSharesOutstandingBasic for sharesOutstanding\n",
      "Creating: MSFT_2022_2023-07-05_FY.csv\n"
     ]
    },
    {
     "data": {
      "text/plain": "case analysisDate symbol reportingDate reportingPeriod  reportingYear  \\\n8      2023-07-05   MSFT    2018-08-03              FY           2018   \n9      2023-07-05   MSFT    2019-08-01              FY           2019   \n10     2023-07-05   MSFT    2020-07-31              FY           2020   \n11     2023-07-05   MSFT    2021-07-29              FY           2021   \n12     2023-07-05   MSFT    2022-07-28              FY           2022   \n\ncase   startDate     endDate    earningsFY  cummDepreciationFY  \\\n8     2017-07-01  2018-06-30  1.657100e+10        2.922300e+10   \n9     2018-07-01  2019-06-30  3.924000e+10        3.533000e+10   \n10    2019-07-01  2020-06-30  4.428100e+10        4.319700e+10   \n11    2020-07-01  2021-06-30  6.127100e+10        5.135100e+10   \n12    2021-07-01  2022-06-30  7.273800e+10        5.966000e+10   \n\ncase  depreciationExpenseFY  amortizationFY  totalCapexFY  \\\n8              7.700000e+09    2.200000e+09  1.342600e+10   \n9              9.700000e+09    1.900000e+09  1.671700e+10   \n10             1.070000e+10    1.600000e+09  1.837400e+10   \n11             9.300000e+09    1.600000e+09  2.486400e+10   \n12             1.260000e+10    2.000000e+09  2.728300e+10   \n\ncase  operatingCashFlowFY  freeCashFlowFY  sharesOutstandingFY  \n8            4.388400e+10    3.045800e+10         7.700000e+09  \n9            5.218500e+10    3.546800e+10         7.673000e+09  \n10           6.067500e+10    4.230100e+10         7.610000e+09  \n11           7.674000e+10    5.187600e+10         7.547000e+09  \n12           8.903500e+10    6.175200e+10         7.496000e+09  ",
      "text/html": "<div>\n<style scoped>\n    .dataframe tbody tr th:only-of-type {\n        vertical-align: middle;\n    }\n\n    .dataframe tbody tr th {\n        vertical-align: top;\n    }\n\n    .dataframe thead th {\n        text-align: right;\n    }\n</style>\n<table border=\"1\" class=\"dataframe\">\n  <thead>\n    <tr style=\"text-align: right;\">\n      <th>case</th>\n      <th>analysisDate</th>\n      <th>symbol</th>\n      <th>reportingDate</th>\n      <th>reportingPeriod</th>\n      <th>reportingYear</th>\n      <th>startDate</th>\n      <th>endDate</th>\n      <th>earningsFY</th>\n      <th>cummDepreciationFY</th>\n      <th>depreciationExpenseFY</th>\n      <th>amortizationFY</th>\n      <th>totalCapexFY</th>\n      <th>operatingCashFlowFY</th>\n      <th>freeCashFlowFY</th>\n      <th>sharesOutstandingFY</th>\n    </tr>\n  </thead>\n  <tbody>\n    <tr>\n      <th>8</th>\n      <td>2023-07-05</td>\n      <td>MSFT</td>\n      <td>2018-08-03</td>\n      <td>FY</td>\n      <td>2018</td>\n      <td>2017-07-01</td>\n      <td>2018-06-30</td>\n      <td>1.657100e+10</td>\n      <td>2.922300e+10</td>\n      <td>7.700000e+09</td>\n      <td>2.200000e+09</td>\n      <td>1.342600e+10</td>\n      <td>4.388400e+10</td>\n      <td>3.045800e+10</td>\n      <td>7.700000e+09</td>\n    </tr>\n    <tr>\n      <th>9</th>\n      <td>2023-07-05</td>\n      <td>MSFT</td>\n      <td>2019-08-01</td>\n      <td>FY</td>\n      <td>2019</td>\n      <td>2018-07-01</td>\n      <td>2019-06-30</td>\n      <td>3.924000e+10</td>\n      <td>3.533000e+10</td>\n      <td>9.700000e+09</td>\n      <td>1.900000e+09</td>\n      <td>1.671700e+10</td>\n      <td>5.218500e+10</td>\n      <td>3.546800e+10</td>\n      <td>7.673000e+09</td>\n    </tr>\n    <tr>\n      <th>10</th>\n      <td>2023-07-05</td>\n      <td>MSFT</td>\n      <td>2020-07-31</td>\n      <td>FY</td>\n      <td>2020</td>\n      <td>2019-07-01</td>\n      <td>2020-06-30</td>\n      <td>4.428100e+10</td>\n      <td>4.319700e+10</td>\n      <td>1.070000e+10</td>\n      <td>1.600000e+09</td>\n      <td>1.837400e+10</td>\n      <td>6.067500e+10</td>\n      <td>4.230100e+10</td>\n      <td>7.610000e+09</td>\n    </tr>\n    <tr>\n      <th>11</th>\n      <td>2023-07-05</td>\n      <td>MSFT</td>\n      <td>2021-07-29</td>\n      <td>FY</td>\n      <td>2021</td>\n      <td>2020-07-01</td>\n      <td>2021-06-30</td>\n      <td>6.127100e+10</td>\n      <td>5.135100e+10</td>\n      <td>9.300000e+09</td>\n      <td>1.600000e+09</td>\n      <td>2.486400e+10</td>\n      <td>7.674000e+10</td>\n      <td>5.187600e+10</td>\n      <td>7.547000e+09</td>\n    </tr>\n    <tr>\n      <th>12</th>\n      <td>2023-07-05</td>\n      <td>MSFT</td>\n      <td>2022-07-28</td>\n      <td>FY</td>\n      <td>2022</td>\n      <td>2021-07-01</td>\n      <td>2022-06-30</td>\n      <td>7.273800e+10</td>\n      <td>5.966000e+10</td>\n      <td>1.260000e+10</td>\n      <td>2.000000e+09</td>\n      <td>2.728300e+10</td>\n      <td>8.903500e+10</td>\n      <td>6.175200e+10</td>\n      <td>7.496000e+09</td>\n    </tr>\n  </tbody>\n</table>\n</div>"
     },
     "execution_count": 5,
     "metadata": {},
     "output_type": "execute_result"
    }
   ],
   "source": [
    "## Try extract\n",
    "dfMSFT = RunSECsteps('MSFT',last=5, form='10-K')\n",
    "dfMSFT"
   ],
   "metadata": {
    "collapsed": false,
    "ExecuteTime": {
     "end_time": "2023-07-05T20:19:14.937088Z",
     "start_time": "2023-07-05T20:19:12.614038Z"
    }
   }
  },
  {
   "cell_type": "code",
   "execution_count": null,
   "outputs": [],
   "source": [],
   "metadata": {
    "collapsed": false
   }
  },
  {
   "cell_type": "code",
   "execution_count": null,
   "outputs": [],
   "source": [],
   "metadata": {
    "collapsed": false
   }
  }
 ],
 "metadata": {
  "kernelspec": {
   "display_name": "Python 3 (ipykernel)",
   "language": "python",
   "name": "python3"
  },
  "language_info": {
   "codemirror_mode": {
    "name": "ipython",
    "version": 3
   },
   "file_extension": ".py",
   "mimetype": "text/x-python",
   "name": "python",
   "nbconvert_exporter": "python",
   "pygments_lexer": "ipython3",
   "version": "3.8.13"
  }
 },
 "nbformat": 4,
 "nbformat_minor": 1
}
